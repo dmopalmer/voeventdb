{
 "cells": [
  {
   "cell_type": "code",
   "execution_count": null,
   "metadata": {
    "collapsed": false
   },
   "outputs": [],
   "source": [
    "%load_ext autoreload\n",
    "%autoreload 2"
   ]
  },
  {
   "cell_type": "code",
   "execution_count": null,
   "metadata": {
    "collapsed": true
   },
   "outputs": [],
   "source": [
    "import voeventcache\n",
    "import sqlalchemy"
   ]
  },
  {
   "cell_type": "code",
   "execution_count": null,
   "metadata": {
    "collapsed": true
   },
   "outputs": [],
   "source": [
    "import logging\n",
    "logging.basicConfig()"
   ]
  },
  {
   "cell_type": "code",
   "execution_count": null,
   "metadata": {
    "collapsed": true
   },
   "outputs": [],
   "source": [
    "from voeventcache.tests.resources import swift_bat_grb_pos_v2_etree\n",
    "from voeventcache.database.models import Voevent, Base\n",
    "row = Voevent.from_etree(swift_bat_grb_pos_v2_etree)"
   ]
  },
  {
   "cell_type": "code",
   "execution_count": null,
   "metadata": {
    "collapsed": false
   },
   "outputs": [],
   "source": [
    "from voeventcache.database import db_utils\n",
    "from voeventcache.tests.config import testdb_scratch_url, admin_db_url\n",
    "if not db_utils.check_database_exists(testdb_scratch_url):\n",
    "    db_utils.create_database(admin_db_url, testdb_scratch_url.database)\n",
    "engine = sqlalchemy.engine.create_engine(testdb_scratch_url)\n",
    "Base.metadata.create_all(engine)\n",
    "engine.dispose()"
   ]
  },
  {
   "cell_type": "code",
   "execution_count": null,
   "metadata": {
    "collapsed": false
   },
   "outputs": [],
   "source": [
    "import sqlalchemy\n",
    "import sqlalchemy.orm as orm\n",
    "engine = sqlalchemy.engine.create_engine(testdb_scratch_url)\n",
    "Session = orm.sessionmaker(bind=engine)\n",
    "s = Session()\n",
    "s.query(Voevent).first()"
   ]
  },
  {
   "cell_type": "code",
   "execution_count": null,
   "metadata": {
    "collapsed": false
   },
   "outputs": [],
   "source": [
    "import voeventcache.tests.fixtures.fake as fake\n",
    "from datetime import datetime, timedelta\n",
    "start = datetime(2015, 1, 1)\n",
    "interval = timedelta(minutes=15)\n",
    "n_interval = 4*6\n",
    "packets = fake.heartbeat_packets(start,\n",
    "                       start+n_interval*interval,\n",
    "                       interval)\n",
    "s.add_all((Voevent.from_etree(p) for p in packets))\n",
    "s.commit()\n",
    "s.query(Voevent).count()"
   ]
  },
  {
   "cell_type": "code",
   "execution_count": null,
   "metadata": {
    "collapsed": true
   },
   "outputs": [],
   "source": []
  }
 ],
 "metadata": {
  "kernelspec": {
   "display_name": "Python 2",
   "language": "python",
   "name": "python2"
  },
  "language_info": {
   "codemirror_mode": {
    "name": "ipython",
    "version": 2
   },
   "file_extension": ".py",
   "mimetype": "text/x-python",
   "name": "python",
   "nbconvert_exporter": "python",
   "pygments_lexer": "ipython2",
   "version": "2.7.6"
  }
 },
 "nbformat": 4,
 "nbformat_minor": 0
}
