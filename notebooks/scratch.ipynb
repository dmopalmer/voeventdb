{
 "cells": [
  {
   "cell_type": "code",
   "execution_count": null,
   "metadata": {},
   "outputs": [],
   "source": [
    "import voeventcache"
   ]
  },
  {
   "cell_type": "code",
   "execution_count": null,
   "metadata": {},
   "outputs": [],
   "source": [
    "import logging\n",
    "logging.basicConfig()"
   ]
  },
  {
   "cell_type": "code",
   "execution_count": null,
   "metadata": {},
   "outputs": [],
   "source": [
    "from voeventcache.tests.resources import swift_bat_grb_pos_v2_etree\n",
    "from voeventcache.database.models import Voevent, Base\n",
    "row = Voevent.from_etree(swift_bat_grb_pos_v2_etree)"
   ]
  },
  {
   "cell_type": "code",
   "execution_count": null,
   "metadata": {},
   "outputs": [],
   "source": [
    "from voeventcache.database import db_utils\n",
    "from voeventcache.tests.config import testdb_scratch_url, admin_db_url\n",
    "if not db_utils.check_database_exists(testdb_scratch_url):\n",
    "    db_utils.create_database(admin_db_url, testdb_scratch_url.database)\n",
    "    engine = sqlalchemy.engine.create_engine(testdb_scratch_url)\n",
    "    Base.metadata.create_all(engine)\n",
    "    engine.dispose()"
   ]
  },
  {
   "cell_type": "code",
   "execution_count": null,
   "metadata": {},
   "outputs": [],
   "source": [
    "from sqlalchemy.orm import sessionmaker\n",
    "engine = sqlalchemy.engine.create_engine(testdb_manual_url)\n",
    "Session = sessionmaker(bind=engine)\n",
    "s = Session()\n",
    "s.query(Voevent).first()\n",
    "print"
   ]
  },
  {
   "cell_type": "code",
   "execution_count": null,
   "metadata": {},
   "outputs": [],
   "source": [
    "print s.query(Voevent.ivorn, Voevent.received).all()[0]"
   ]
  },
  {
   "cell_type": "code",
   "execution_count": null,
   "metadata": {},
   "outputs": [],
   "source": [
    "v0 = s.query(Voevent).all()[0]\n",
    "# s.add(row)\n",
    "# s.commit()"
   ]
  },
  {
   "cell_type": "code",
   "execution_count": null,
   "metadata": {},
   "outputs": [],
   "source": [
    "v0"
   ]
  },
  {
   "cell_type": "code",
   "execution_count": null,
   "metadata": {},
   "outputs": [],
   "source": [
    ""
   ]
  }
 ],
 "metadata": {
  "kernelspec": {
   "display_name": "Python 2",
   "language": "python",
   "name": "python2"
  },
  "language_info": {
   "codemirror_mode": {
    "name": "ipython",
    "version": 2.0
   },
   "file_extension": ".py",
   "mimetype": "text/x-python",
   "name": "python",
   "nbconvert_exporter": "python",
   "pygments_lexer": "ipython2",
   "version": "2.7.6"
  }
 },
 "nbformat": 4,
 "nbformat_minor": 0
}